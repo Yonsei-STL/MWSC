{
 "cells": [
  {
   "cell_type": "code",
   "execution_count": null,
   "metadata": {},
   "outputs": [],
   "source": [
    "import torch\n",
    "import torch.nn.functional as F\n",
    "from torch.utils.data import DataLoader\n",
    "import numpy as np\n",
    "from tqdm import tqdm\n",
    "import timm\n",
    "\n",
    "from modules.data_loader import WeatherDataset\n",
    "from modules.classifier_finetune import Finetune_model\n",
    "from modules.metric import Metric\n",
    "\n",
    "device = \"cuda\" if torch.cuda.is_available() else \"cpu\"\n",
    "pretrain = False\n",
    "batch_size = 64\n",
    "timm_model_name = 'crossvit_18_240'\n",
    "\n",
    "image_path = '/data/MWSC/data/'\n",
    "test_label_path = '/data/MWSC/data/label/test_data.csv'\n",
    "fine_tune_state_dict_path = f'/data/MWSC/result/finetune_{timm_model_name}.pth'"
   ]
  },
  {
   "cell_type": "code",
   "execution_count": null,
   "metadata": {},
   "outputs": [],
   "source": [
    "if pretrain == True:\n",
    "    m = timm.create_model(timm_model_name, pretrained=True)\n",
    "else:\n",
    "    m = timm.create_model(timm_model_name, pretrained=False)\n",
    "data_config = timm.data.resolve_model_data_config(m)\n",
    "transforms = timm.data.create_transform(**data_config, is_training=False)\n",
    "test_dataset = WeatherDataset(test_label_path, transform=transforms, data_dir=image_path)\n",
    "test_loader = DataLoader(test_dataset, batch_size=batch_size)\n",
    "\n",
    "weather_types = test_dataset.weather_types\n",
    "severity_levels = test_dataset.severity_levels\n",
    "\n",
    "metric = Metric(weather_types, severity_levels)"
   ]
  },
  {
   "cell_type": "code",
   "execution_count": null,
   "metadata": {},
   "outputs": [],
   "source": [
    "model = Finetune_model(timm_model_name, len(weather_types), len(severity_levels), pretrain)\n",
    "model.load_state_dict(torch.load(fine_tune_state_dict_path))\n",
    "model = model.to(device)\n",
    "model.eval()\n",
    "trainable_parameters = sum(p.numel() for p in model.parameters() if p.requires_grad)\n",
    "\n",
    "all_weather_probs = []\n",
    "all_weather_labels = []\n",
    "all_severity_probs = []\n",
    "all_severity_labels = []\n",
    "\n",
    "with torch.no_grad():\n",
    "    for images, weather_labels, severity_labels in tqdm(test_loader):\n",
    "        images = images.to(device)\n",
    "        weather_labels = weather_labels.to(device)\n",
    "        severity_labels = severity_labels.to(device)\n",
    "        \n",
    "        weather_out, severity_out = model(images)\n",
    "        \n",
    "        weather_probs = torch.sigmoid(weather_out).cpu().numpy()\n",
    "        all_weather_probs.extend(weather_probs)\n",
    "        all_weather_labels.extend(weather_labels.cpu().numpy())\n",
    "\n",
    "        severity_probs = F.softmax(severity_out, dim=1).cpu().numpy()\n",
    "        all_severity_probs.extend(severity_probs)\n",
    "        all_severity_labels.extend(severity_labels.cpu().numpy())\n",
    "        \n",
    "weather_metrics = metric.calculate(np.array(all_weather_probs), np.array(all_weather_labels), is_multilabel=True)\n",
    "severity_metrics = metric.calculate(np.array(all_severity_probs), np.array(all_severity_labels), is_multilabel=False)\n",
    "print(f\"Trainable Parameters : {trainable_parameters}\")\n",
    "print(f'Weather Accuracy: {weather_metrics[\"accuracy\"]:.4f}')\n",
    "print(f'Weather mAP:{weather_metrics[\"map\"]:.4f}')\n",
    "print(f'Severity mAP:{severity_metrics[\"map\"]:.4f}')\n",
    "print('Weather Classification Report:')\n",
    "print(weather_metrics['classification_report'])\n",
    "print('Severity Classification Report:')\n",
    "print(severity_metrics['classification_report'])\n",
    "print('Weather Confusion Matrix:')\n",
    "print(weather_metrics['confusion_matrix'])\n",
    "print('-' * 50)"
   ]
  }
 ],
 "metadata": {
  "kernelspec": {
   "display_name": "mwsc",
   "language": "python",
   "name": "python3"
  },
  "language_info": {
   "codemirror_mode": {
    "name": "ipython",
    "version": 3
   },
   "file_extension": ".py",
   "mimetype": "text/x-python",
   "name": "python",
   "nbconvert_exporter": "python",
   "pygments_lexer": "ipython3",
   "version": "3.11.11"
  }
 },
 "nbformat": 4,
 "nbformat_minor": 2
}
